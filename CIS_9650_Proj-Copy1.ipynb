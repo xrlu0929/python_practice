{
 "cells": [
  {
   "cell_type": "markdown",
   "metadata": {},
   "source": [
    "** Import Modules **"
   ]
  },
  {
   "cell_type": "code",
   "execution_count": 2,
   "metadata": {
    "collapsed": false
   },
   "outputs": [
    {
     "name": "stdout",
     "output_type": "stream",
     "text": [
      "Once deleted, variables cannot be recovered. Proceed (y/[n])? y\n"
     ]
    }
   ],
   "source": [
    "%reset"
   ]
  },
  {
   "cell_type": "code",
   "execution_count": 3,
   "metadata": {
    "collapsed": true
   },
   "outputs": [],
   "source": [
    "import pandas_datareader as pdr\n",
    "import pandas as pd\n",
    "import matplotlib.pyplot as plt\n",
    "import datetime as dt"
   ]
  },
  {
   "cell_type": "markdown",
   "metadata": {},
   "source": [
    "#### Step 1: Collect Data"
   ]
  },
  {
   "cell_type": "markdown",
   "metadata": {},
   "source": [
    "*1a: Choose assets/equities*"
   ]
  },
  {
   "cell_type": "markdown",
   "metadata": {},
   "source": [
    "We've chosen the following for this project:\n",
    "* AAPL: Apple Inc. \n",
    "* AMZN: Amazon.com, Inc. \n",
    "* IAU: iShares Gold Trust\n",
    "* IYZ: iShares US Telecommunications\n",
    "* TAO: Guggenheim China Real Estate ETF\n",
    "* SPY: SPDR S&P 500 ETF Trust (perfectly aligned with and therefore used as a proxy for S&P 500, whose historical data is not provided on Google Finance in a downloadble csv format. As a result, we were not able to access S&P 500's data using get_data_google, which works only when this precondition is met)\n",
    "\n",
    "Note: Since Yahoo iChart is down and the get_data_google function is limited, we had to pivot to some less exciting equities"
   ]
  },
  {
   "cell_type": "markdown",
   "metadata": {},
   "source": [
    "*1b & 1c: Import data and display head/length*"
   ]
  },
  {
   "cell_type": "code",
   "execution_count": 4,
   "metadata": {
    "collapsed": false
   },
   "outputs": [],
   "source": [
    "start_date = dt.datetime(2016,1,1)\n",
    "end_date = dt.datetime(2016,12,31)"
   ]
  },
  {
   "cell_type": "code",
   "execution_count": 5,
   "metadata": {
    "collapsed": false
   },
   "outputs": [],
   "source": [
    "df_ap = pdr.get_data_google('AAPL', start_date, end_date)\n",
    "df_amz = pdr.get_data_google('AMZN', start_date, end_date)\n",
    "df_gd = pdr.get_data_google('IAU', start_date, end_date)\n",
    "df_com = pdr.get_data_google('IYZ', start_date, end_date)\n",
    "df_tao = pdr.get_data_google('TAO', start_date, end_date)\n",
    "df_sp = pdr.get_data_google('SPY', start_date, end_date)"
   ]
  },
  {
   "cell_type": "markdown",
   "metadata": {
    "collapsed": true
   },
   "source": [
    "Display top 5 rows"
   ]
  },
  {
   "cell_type": "code",
   "execution_count": 6,
   "metadata": {
    "collapsed": false
   },
   "outputs": [
    {
     "data": {
      "text/html": [
       "<div>\n",
       "<table border=\"1\" class=\"dataframe\">\n",
       "  <thead>\n",
       "    <tr style=\"text-align: right;\">\n",
       "      <th></th>\n",
       "      <th>Open</th>\n",
       "      <th>High</th>\n",
       "      <th>Low</th>\n",
       "      <th>Close</th>\n",
       "      <th>Volume</th>\n",
       "    </tr>\n",
       "    <tr>\n",
       "      <th>Date</th>\n",
       "      <th></th>\n",
       "      <th></th>\n",
       "      <th></th>\n",
       "      <th></th>\n",
       "      <th></th>\n",
       "    </tr>\n",
       "  </thead>\n",
       "  <tbody>\n",
       "    <tr>\n",
       "      <th>2016-01-04</th>\n",
       "      <td>102.61</td>\n",
       "      <td>105.37</td>\n",
       "      <td>102.00</td>\n",
       "      <td>105.35</td>\n",
       "      <td>67281190</td>\n",
       "    </tr>\n",
       "    <tr>\n",
       "      <th>2016-01-05</th>\n",
       "      <td>105.75</td>\n",
       "      <td>105.85</td>\n",
       "      <td>102.41</td>\n",
       "      <td>102.71</td>\n",
       "      <td>55790992</td>\n",
       "    </tr>\n",
       "    <tr>\n",
       "      <th>2016-01-06</th>\n",
       "      <td>100.56</td>\n",
       "      <td>102.37</td>\n",
       "      <td>99.87</td>\n",
       "      <td>100.70</td>\n",
       "      <td>68457388</td>\n",
       "    </tr>\n",
       "    <tr>\n",
       "      <th>2016-01-07</th>\n",
       "      <td>98.68</td>\n",
       "      <td>100.13</td>\n",
       "      <td>96.43</td>\n",
       "      <td>96.45</td>\n",
       "      <td>81094428</td>\n",
       "    </tr>\n",
       "    <tr>\n",
       "      <th>2016-01-08</th>\n",
       "      <td>98.55</td>\n",
       "      <td>99.11</td>\n",
       "      <td>96.76</td>\n",
       "      <td>96.96</td>\n",
       "      <td>70798016</td>\n",
       "    </tr>\n",
       "  </tbody>\n",
       "</table>\n",
       "</div>"
      ],
      "text/plain": [
       "              Open    High     Low   Close    Volume\n",
       "Date                                                \n",
       "2016-01-04  102.61  105.37  102.00  105.35  67281190\n",
       "2016-01-05  105.75  105.85  102.41  102.71  55790992\n",
       "2016-01-06  100.56  102.37   99.87  100.70  68457388\n",
       "2016-01-07   98.68  100.13   96.43   96.45  81094428\n",
       "2016-01-08   98.55   99.11   96.76   96.96  70798016"
      ]
     },
     "execution_count": 6,
     "metadata": {},
     "output_type": "execute_result"
    }
   ],
   "source": [
    "df_ap.head(n=5)"
   ]
  },
  {
   "cell_type": "code",
   "execution_count": 7,
   "metadata": {
    "collapsed": false
   },
   "outputs": [
    {
     "data": {
      "text/html": [
       "<div>\n",
       "<table border=\"1\" class=\"dataframe\">\n",
       "  <thead>\n",
       "    <tr style=\"text-align: right;\">\n",
       "      <th></th>\n",
       "      <th>Open</th>\n",
       "      <th>High</th>\n",
       "      <th>Low</th>\n",
       "      <th>Close</th>\n",
       "      <th>Volume</th>\n",
       "    </tr>\n",
       "    <tr>\n",
       "      <th>Date</th>\n",
       "      <th></th>\n",
       "      <th></th>\n",
       "      <th></th>\n",
       "      <th></th>\n",
       "      <th></th>\n",
       "    </tr>\n",
       "  </thead>\n",
       "  <tbody>\n",
       "    <tr>\n",
       "      <th>2016-01-04</th>\n",
       "      <td>656.29</td>\n",
       "      <td>657.72</td>\n",
       "      <td>627.51</td>\n",
       "      <td>636.99</td>\n",
       "      <td>9280761</td>\n",
       "    </tr>\n",
       "    <tr>\n",
       "      <th>2016-01-05</th>\n",
       "      <td>646.86</td>\n",
       "      <td>646.91</td>\n",
       "      <td>627.65</td>\n",
       "      <td>633.79</td>\n",
       "      <td>5822603</td>\n",
       "    </tr>\n",
       "    <tr>\n",
       "      <th>2016-01-06</th>\n",
       "      <td>622.00</td>\n",
       "      <td>639.79</td>\n",
       "      <td>620.31</td>\n",
       "      <td>632.65</td>\n",
       "      <td>5329197</td>\n",
       "    </tr>\n",
       "    <tr>\n",
       "      <th>2016-01-07</th>\n",
       "      <td>621.80</td>\n",
       "      <td>630.00</td>\n",
       "      <td>605.21</td>\n",
       "      <td>607.94</td>\n",
       "      <td>7074915</td>\n",
       "    </tr>\n",
       "    <tr>\n",
       "      <th>2016-01-08</th>\n",
       "      <td>619.66</td>\n",
       "      <td>624.14</td>\n",
       "      <td>606.00</td>\n",
       "      <td>607.05</td>\n",
       "      <td>5512915</td>\n",
       "    </tr>\n",
       "  </tbody>\n",
       "</table>\n",
       "</div>"
      ],
      "text/plain": [
       "              Open    High     Low   Close   Volume\n",
       "Date                                               \n",
       "2016-01-04  656.29  657.72  627.51  636.99  9280761\n",
       "2016-01-05  646.86  646.91  627.65  633.79  5822603\n",
       "2016-01-06  622.00  639.79  620.31  632.65  5329197\n",
       "2016-01-07  621.80  630.00  605.21  607.94  7074915\n",
       "2016-01-08  619.66  624.14  606.00  607.05  5512915"
      ]
     },
     "execution_count": 7,
     "metadata": {},
     "output_type": "execute_result"
    }
   ],
   "source": [
    "df_amz.head(n=5)"
   ]
  },
  {
   "cell_type": "code",
   "execution_count": 8,
   "metadata": {
    "collapsed": false
   },
   "outputs": [
    {
     "data": {
      "text/html": [
       "<div>\n",
       "<table border=\"1\" class=\"dataframe\">\n",
       "  <thead>\n",
       "    <tr style=\"text-align: right;\">\n",
       "      <th></th>\n",
       "      <th>Open</th>\n",
       "      <th>High</th>\n",
       "      <th>Low</th>\n",
       "      <th>Close</th>\n",
       "      <th>Volume</th>\n",
       "    </tr>\n",
       "    <tr>\n",
       "      <th>Date</th>\n",
       "      <th></th>\n",
       "      <th></th>\n",
       "      <th></th>\n",
       "      <th></th>\n",
       "      <th></th>\n",
       "    </tr>\n",
       "  </thead>\n",
       "  <tbody>\n",
       "    <tr>\n",
       "      <th>2016-01-04</th>\n",
       "      <td>10.40</td>\n",
       "      <td>10.46</td>\n",
       "      <td>10.34</td>\n",
       "      <td>10.38</td>\n",
       "      <td>3406604</td>\n",
       "    </tr>\n",
       "    <tr>\n",
       "      <th>2016-01-05</th>\n",
       "      <td>10.40</td>\n",
       "      <td>10.44</td>\n",
       "      <td>10.38</td>\n",
       "      <td>10.40</td>\n",
       "      <td>5016681</td>\n",
       "    </tr>\n",
       "    <tr>\n",
       "      <th>2016-01-06</th>\n",
       "      <td>10.53</td>\n",
       "      <td>10.57</td>\n",
       "      <td>10.48</td>\n",
       "      <td>10.57</td>\n",
       "      <td>21263881</td>\n",
       "    </tr>\n",
       "    <tr>\n",
       "      <th>2016-01-07</th>\n",
       "      <td>10.67</td>\n",
       "      <td>10.72</td>\n",
       "      <td>10.62</td>\n",
       "      <td>10.72</td>\n",
       "      <td>31374705</td>\n",
       "    </tr>\n",
       "    <tr>\n",
       "      <th>2016-01-08</th>\n",
       "      <td>10.64</td>\n",
       "      <td>10.68</td>\n",
       "      <td>10.60</td>\n",
       "      <td>10.66</td>\n",
       "      <td>6116052</td>\n",
       "    </tr>\n",
       "  </tbody>\n",
       "</table>\n",
       "</div>"
      ],
      "text/plain": [
       "             Open   High    Low  Close    Volume\n",
       "Date                                            \n",
       "2016-01-04  10.40  10.46  10.34  10.38   3406604\n",
       "2016-01-05  10.40  10.44  10.38  10.40   5016681\n",
       "2016-01-06  10.53  10.57  10.48  10.57  21263881\n",
       "2016-01-07  10.67  10.72  10.62  10.72  31374705\n",
       "2016-01-08  10.64  10.68  10.60  10.66   6116052"
      ]
     },
     "execution_count": 8,
     "metadata": {},
     "output_type": "execute_result"
    }
   ],
   "source": [
    "df_gd.head(n=5)"
   ]
  },
  {
   "cell_type": "code",
   "execution_count": 9,
   "metadata": {
    "collapsed": false
   },
   "outputs": [
    {
     "data": {
      "text/html": [
       "<div>\n",
       "<table border=\"1\" class=\"dataframe\">\n",
       "  <thead>\n",
       "    <tr style=\"text-align: right;\">\n",
       "      <th></th>\n",
       "      <th>Open</th>\n",
       "      <th>High</th>\n",
       "      <th>Low</th>\n",
       "      <th>Close</th>\n",
       "      <th>Volume</th>\n",
       "    </tr>\n",
       "    <tr>\n",
       "      <th>Date</th>\n",
       "      <th></th>\n",
       "      <th></th>\n",
       "      <th></th>\n",
       "      <th></th>\n",
       "      <th></th>\n",
       "    </tr>\n",
       "  </thead>\n",
       "  <tbody>\n",
       "    <tr>\n",
       "      <th>2016-01-04</th>\n",
       "      <td>28.45</td>\n",
       "      <td>28.47</td>\n",
       "      <td>28.02</td>\n",
       "      <td>28.14</td>\n",
       "      <td>3409797</td>\n",
       "    </tr>\n",
       "    <tr>\n",
       "      <th>2016-01-05</th>\n",
       "      <td>28.28</td>\n",
       "      <td>28.42</td>\n",
       "      <td>28.03</td>\n",
       "      <td>28.38</td>\n",
       "      <td>494286</td>\n",
       "    </tr>\n",
       "    <tr>\n",
       "      <th>2016-01-06</th>\n",
       "      <td>28.06</td>\n",
       "      <td>28.39</td>\n",
       "      <td>27.98</td>\n",
       "      <td>28.14</td>\n",
       "      <td>292235</td>\n",
       "    </tr>\n",
       "    <tr>\n",
       "      <th>2016-01-07</th>\n",
       "      <td>27.70</td>\n",
       "      <td>27.90</td>\n",
       "      <td>27.40</td>\n",
       "      <td>27.43</td>\n",
       "      <td>406008</td>\n",
       "    </tr>\n",
       "    <tr>\n",
       "      <th>2016-01-08</th>\n",
       "      <td>27.62</td>\n",
       "      <td>27.87</td>\n",
       "      <td>27.15</td>\n",
       "      <td>27.19</td>\n",
       "      <td>349974</td>\n",
       "    </tr>\n",
       "  </tbody>\n",
       "</table>\n",
       "</div>"
      ],
      "text/plain": [
       "             Open   High    Low  Close   Volume\n",
       "Date                                           \n",
       "2016-01-04  28.45  28.47  28.02  28.14  3409797\n",
       "2016-01-05  28.28  28.42  28.03  28.38   494286\n",
       "2016-01-06  28.06  28.39  27.98  28.14   292235\n",
       "2016-01-07  27.70  27.90  27.40  27.43   406008\n",
       "2016-01-08  27.62  27.87  27.15  27.19   349974"
      ]
     },
     "execution_count": 9,
     "metadata": {},
     "output_type": "execute_result"
    }
   ],
   "source": [
    "df_com.head(n=5)"
   ]
  },
  {
   "cell_type": "code",
   "execution_count": 10,
   "metadata": {
    "collapsed": false
   },
   "outputs": [
    {
     "data": {
      "text/html": [
       "<div>\n",
       "<table border=\"1\" class=\"dataframe\">\n",
       "  <thead>\n",
       "    <tr style=\"text-align: right;\">\n",
       "      <th></th>\n",
       "      <th>Open</th>\n",
       "      <th>High</th>\n",
       "      <th>Low</th>\n",
       "      <th>Close</th>\n",
       "      <th>Volume</th>\n",
       "    </tr>\n",
       "    <tr>\n",
       "      <th>Date</th>\n",
       "      <th></th>\n",
       "      <th></th>\n",
       "      <th></th>\n",
       "      <th></th>\n",
       "      <th></th>\n",
       "    </tr>\n",
       "  </thead>\n",
       "  <tbody>\n",
       "    <tr>\n",
       "      <th>2016-01-04</th>\n",
       "      <td>19.36</td>\n",
       "      <td>19.45</td>\n",
       "      <td>19.00</td>\n",
       "      <td>19.38</td>\n",
       "      <td>22079</td>\n",
       "    </tr>\n",
       "    <tr>\n",
       "      <th>2016-01-05</th>\n",
       "      <td>19.44</td>\n",
       "      <td>19.44</td>\n",
       "      <td>19.35</td>\n",
       "      <td>19.35</td>\n",
       "      <td>1739</td>\n",
       "    </tr>\n",
       "    <tr>\n",
       "      <th>2016-01-06</th>\n",
       "      <td>19.13</td>\n",
       "      <td>19.13</td>\n",
       "      <td>19.04</td>\n",
       "      <td>19.12</td>\n",
       "      <td>1376</td>\n",
       "    </tr>\n",
       "    <tr>\n",
       "      <th>2016-01-07</th>\n",
       "      <td>18.86</td>\n",
       "      <td>18.86</td>\n",
       "      <td>18.62</td>\n",
       "      <td>18.62</td>\n",
       "      <td>2135</td>\n",
       "    </tr>\n",
       "    <tr>\n",
       "      <th>2016-01-08</th>\n",
       "      <td>18.51</td>\n",
       "      <td>18.51</td>\n",
       "      <td>18.25</td>\n",
       "      <td>18.25</td>\n",
       "      <td>3254</td>\n",
       "    </tr>\n",
       "  </tbody>\n",
       "</table>\n",
       "</div>"
      ],
      "text/plain": [
       "             Open   High    Low  Close  Volume\n",
       "Date                                          \n",
       "2016-01-04  19.36  19.45  19.00  19.38   22079\n",
       "2016-01-05  19.44  19.44  19.35  19.35    1739\n",
       "2016-01-06  19.13  19.13  19.04  19.12    1376\n",
       "2016-01-07  18.86  18.86  18.62  18.62    2135\n",
       "2016-01-08  18.51  18.51  18.25  18.25    3254"
      ]
     },
     "execution_count": 10,
     "metadata": {},
     "output_type": "execute_result"
    }
   ],
   "source": [
    "df_tao.head(n=5)"
   ]
  },
  {
   "cell_type": "code",
   "execution_count": 11,
   "metadata": {
    "collapsed": false
   },
   "outputs": [
    {
     "data": {
      "text/html": [
       "<div>\n",
       "<table border=\"1\" class=\"dataframe\">\n",
       "  <thead>\n",
       "    <tr style=\"text-align: right;\">\n",
       "      <th></th>\n",
       "      <th>Open</th>\n",
       "      <th>High</th>\n",
       "      <th>Low</th>\n",
       "      <th>Close</th>\n",
       "      <th>Volume</th>\n",
       "    </tr>\n",
       "    <tr>\n",
       "      <th>Date</th>\n",
       "      <th></th>\n",
       "      <th></th>\n",
       "      <th></th>\n",
       "      <th></th>\n",
       "      <th></th>\n",
       "    </tr>\n",
       "  </thead>\n",
       "  <tbody>\n",
       "    <tr>\n",
       "      <th>2016-01-04</th>\n",
       "      <td>200.49</td>\n",
       "      <td>201.03</td>\n",
       "      <td>198.59</td>\n",
       "      <td>201.02</td>\n",
       "      <td>218722198</td>\n",
       "    </tr>\n",
       "    <tr>\n",
       "      <th>2016-01-05</th>\n",
       "      <td>201.40</td>\n",
       "      <td>201.90</td>\n",
       "      <td>200.05</td>\n",
       "      <td>201.36</td>\n",
       "      <td>110845849</td>\n",
       "    </tr>\n",
       "    <tr>\n",
       "      <th>2016-01-06</th>\n",
       "      <td>198.34</td>\n",
       "      <td>200.06</td>\n",
       "      <td>197.60</td>\n",
       "      <td>198.82</td>\n",
       "      <td>152112604</td>\n",
       "    </tr>\n",
       "    <tr>\n",
       "      <th>2016-01-07</th>\n",
       "      <td>195.33</td>\n",
       "      <td>197.44</td>\n",
       "      <td>193.59</td>\n",
       "      <td>194.05</td>\n",
       "      <td>213436073</td>\n",
       "    </tr>\n",
       "    <tr>\n",
       "      <th>2016-01-08</th>\n",
       "      <td>195.19</td>\n",
       "      <td>195.85</td>\n",
       "      <td>191.58</td>\n",
       "      <td>191.92</td>\n",
       "      <td>209817228</td>\n",
       "    </tr>\n",
       "  </tbody>\n",
       "</table>\n",
       "</div>"
      ],
      "text/plain": [
       "              Open    High     Low   Close     Volume\n",
       "Date                                                 \n",
       "2016-01-04  200.49  201.03  198.59  201.02  218722198\n",
       "2016-01-05  201.40  201.90  200.05  201.36  110845849\n",
       "2016-01-06  198.34  200.06  197.60  198.82  152112604\n",
       "2016-01-07  195.33  197.44  193.59  194.05  213436073\n",
       "2016-01-08  195.19  195.85  191.58  191.92  209817228"
      ]
     },
     "execution_count": 11,
     "metadata": {},
     "output_type": "execute_result"
    }
   ],
   "source": [
    "df_sp.head(n=5)"
   ]
  },
  {
   "cell_type": "markdown",
   "metadata": {},
   "source": [
    "Display count"
   ]
  },
  {
   "cell_type": "code",
   "execution_count": 12,
   "metadata": {
    "collapsed": true
   },
   "outputs": [],
   "source": [
    "df_ap_nrow = len(df_ap.axes[0])\n",
    "df_ap_ncol = len(df_ap.axes[1])"
   ]
  },
  {
   "cell_type": "code",
   "execution_count": 13,
   "metadata": {
    "collapsed": true
   },
   "outputs": [],
   "source": [
    "df_amz_nrow = len(df_amz.axes[0])\n",
    "df_amz_ncol = len(df_amz.axes[1])"
   ]
  },
  {
   "cell_type": "code",
   "execution_count": 14,
   "metadata": {
    "collapsed": true
   },
   "outputs": [],
   "source": [
    "df_gd_nrow = len(df_gd.axes[0])\n",
    "df_gd_ncol = len(df_gd.axes[1])"
   ]
  },
  {
   "cell_type": "code",
   "execution_count": 15,
   "metadata": {
    "collapsed": true
   },
   "outputs": [],
   "source": [
    "df_com_nrow = len(df_com.axes[0])\n",
    "df_com_ncol = len(df_com.axes[1])"
   ]
  },
  {
   "cell_type": "code",
   "execution_count": 16,
   "metadata": {
    "collapsed": true
   },
   "outputs": [],
   "source": [
    "df_tao_nrow = len(df_tao.axes[0])\n",
    "df_tao_ncol = len(df_tao.axes[1])"
   ]
  },
  {
   "cell_type": "code",
   "execution_count": 17,
   "metadata": {
    "collapsed": true
   },
   "outputs": [],
   "source": [
    "df_sp_nrow = len(df_sp.axes[0])\n",
    "df_sp_ncol = len(df_sp.axes[1])"
   ]
  },
  {
   "cell_type": "code",
   "execution_count": 19,
   "metadata": {
    "collapsed": false
   },
   "outputs": [
    {
     "name": "stdout",
     "output_type": "stream",
     "text": [
      "The Apple Inc. dataframe has 252 rows and 5 columns.\n"
     ]
    }
   ],
   "source": [
    "print('The Apple Inc. dataframe has', df_ap_nrow, 'rows and', df_ap_ncol, 'columns.')"
   ]
  },
  {
   "cell_type": "code",
   "execution_count": 20,
   "metadata": {
    "collapsed": false
   },
   "outputs": [
    {
     "name": "stdout",
     "output_type": "stream",
     "text": [
      "The Amazon.com, Inc. dataframe has 252 rows and 5 columns.\n"
     ]
    }
   ],
   "source": [
    "print('The Amazon.com, Inc. dataframe has', df_amz_nrow, 'rows and', df_amz_ncol, 'columns.')"
   ]
  },
  {
   "cell_type": "code",
   "execution_count": 21,
   "metadata": {
    "collapsed": false
   },
   "outputs": [
    {
     "name": "stdout",
     "output_type": "stream",
     "text": [
      "The iShares Gold Trust dataframe has 252 rows and 5 columns.\n"
     ]
    }
   ],
   "source": [
    "print('The iShares Gold Trust dataframe has', df_gd_nrow, 'rows and', df_gd_ncol, 'columns.')"
   ]
  },
  {
   "cell_type": "code",
   "execution_count": 20,
   "metadata": {
    "collapsed": false
   },
   "outputs": [
    {
     "name": "stdout",
     "output_type": "stream",
     "text": [
      "The iShares US Telecommunications dataframe has 252 rows and 5 columns.\n"
     ]
    }
   ],
   "source": [
    "print('The iShares US Telecommunications dataframe has', df_com_nrow, 'rows and', df_com_ncol, 'columns.')"
   ]
  },
  {
   "cell_type": "code",
   "execution_count": 22,
   "metadata": {
    "collapsed": false
   },
   "outputs": [
    {
     "name": "stdout",
     "output_type": "stream",
     "text": [
      "The Guggenheim China Real Estate ETF dataframe has 252 rows and 5 columns.\n"
     ]
    }
   ],
   "source": [
    "print('The Guggenheim China Real Estate ETF dataframe has', df_tao_nrow, 'rows and', df_tao_ncol, 'columns.')"
   ]
  },
  {
   "cell_type": "code",
   "execution_count": 23,
   "metadata": {
    "collapsed": false
   },
   "outputs": [
    {
     "name": "stdout",
     "output_type": "stream",
     "text": [
      "The SPDR S&P 500 ETF Trust dataframe has 252 rows and 5 columns.\n"
     ]
    }
   ],
   "source": [
    "print('The SPDR S&P 500 ETF Trust dataframe has', df_sp_nrow, 'rows and', df_sp_ncol, 'columns.')"
   ]
  },
  {
   "cell_type": "markdown",
   "metadata": {},
   "source": [
    "#### Step 2: Process Data"
   ]
  },
  {
   "cell_type": "markdown",
   "metadata": {},
   "source": [
    "*2a: Calculate daily returns*"
   ]
  },
  {
   "cell_type": "code",
   "execution_count": 24,
   "metadata": {
    "collapsed": false
   },
   "outputs": [],
   "source": [
    "df_all = pd.DataFrame({'^SPY': df_sp['Close'],\n",
    "                       'AMZN': df_amz['Close'],\n",
    "                       'IAU': df_gd['Close'],\n",
    "                       'TAO': df_tao['Close'],\n",
    "                       'AAPL': df_ap['Close'],\n",
    "                       'IYZ': df_com['Close']})"
   ]
  },
  {
   "cell_type": "code",
   "execution_count": 25,
   "metadata": {
    "collapsed": false
   },
   "outputs": [],
   "source": [
    "df_return = df_all.pct_change()"
   ]
  },
  {
   "cell_type": "code",
   "execution_count": 26,
   "metadata": {
    "collapsed": false
   },
   "outputs": [
    {
     "data": {
      "text/html": [
       "<div>\n",
       "<table border=\"1\" class=\"dataframe\">\n",
       "  <thead>\n",
       "    <tr style=\"text-align: right;\">\n",
       "      <th></th>\n",
       "      <th>AAPL</th>\n",
       "      <th>AMZN</th>\n",
       "      <th>IAU</th>\n",
       "      <th>IYZ</th>\n",
       "      <th>TAO</th>\n",
       "      <th>^SPY</th>\n",
       "    </tr>\n",
       "    <tr>\n",
       "      <th>Date</th>\n",
       "      <th></th>\n",
       "      <th></th>\n",
       "      <th></th>\n",
       "      <th></th>\n",
       "      <th></th>\n",
       "      <th></th>\n",
       "    </tr>\n",
       "  </thead>\n",
       "  <tbody>\n",
       "    <tr>\n",
       "      <th>2016-01-04</th>\n",
       "      <td>NaN</td>\n",
       "      <td>NaN</td>\n",
       "      <td>NaN</td>\n",
       "      <td>NaN</td>\n",
       "      <td>NaN</td>\n",
       "      <td>NaN</td>\n",
       "    </tr>\n",
       "    <tr>\n",
       "      <th>2016-01-05</th>\n",
       "      <td>-0.025059</td>\n",
       "      <td>-0.005024</td>\n",
       "      <td>0.001927</td>\n",
       "      <td>0.008529</td>\n",
       "      <td>-0.001548</td>\n",
       "      <td>0.001691</td>\n",
       "    </tr>\n",
       "    <tr>\n",
       "      <th>2016-01-06</th>\n",
       "      <td>-0.019570</td>\n",
       "      <td>-0.001799</td>\n",
       "      <td>0.016346</td>\n",
       "      <td>-0.008457</td>\n",
       "      <td>-0.011886</td>\n",
       "      <td>-0.012614</td>\n",
       "    </tr>\n",
       "    <tr>\n",
       "      <th>2016-01-07</th>\n",
       "      <td>-0.042205</td>\n",
       "      <td>-0.039058</td>\n",
       "      <td>0.014191</td>\n",
       "      <td>-0.025231</td>\n",
       "      <td>-0.026151</td>\n",
       "      <td>-0.023992</td>\n",
       "    </tr>\n",
       "    <tr>\n",
       "      <th>2016-01-08</th>\n",
       "      <td>0.005288</td>\n",
       "      <td>-0.001464</td>\n",
       "      <td>-0.005597</td>\n",
       "      <td>-0.008750</td>\n",
       "      <td>-0.019871</td>\n",
       "      <td>-0.010977</td>\n",
       "    </tr>\n",
       "  </tbody>\n",
       "</table>\n",
       "</div>"
      ],
      "text/plain": [
       "                AAPL      AMZN       IAU       IYZ       TAO      ^SPY\n",
       "Date                                                                  \n",
       "2016-01-04       NaN       NaN       NaN       NaN       NaN       NaN\n",
       "2016-01-05 -0.025059 -0.005024  0.001927  0.008529 -0.001548  0.001691\n",
       "2016-01-06 -0.019570 -0.001799  0.016346 -0.008457 -0.011886 -0.012614\n",
       "2016-01-07 -0.042205 -0.039058  0.014191 -0.025231 -0.026151 -0.023992\n",
       "2016-01-08  0.005288 -0.001464 -0.005597 -0.008750 -0.019871 -0.010977"
      ]
     },
     "execution_count": 26,
     "metadata": {},
     "output_type": "execute_result"
    }
   ],
   "source": [
    "df_return.head(n=5)"
   ]
  },
  {
   "cell_type": "code",
   "execution_count": 27,
   "metadata": {
    "collapsed": false
   },
   "outputs": [],
   "source": [
    "df_return_nrow = len(df_return.axes[0])\n",
    "df_return_ncol = len(df_return.axes[1])"
   ]
  },
  {
   "cell_type": "code",
   "execution_count": 28,
   "metadata": {
    "collapsed": false
   },
   "outputs": [
    {
     "name": "stdout",
     "output_type": "stream",
     "text": [
      "The daily return dataframe has 252 rows and 6 columns.\n"
     ]
    }
   ],
   "source": [
    "print('The daily return dataframe has', df_return_nrow, 'rows and', df_return_ncol, 'columns.')"
   ]
  },
  {
   "cell_type": "markdown",
   "metadata": {},
   "source": [
    "*2b: Plot daily returns*"
   ]
  },
  {
   "cell_type": "code",
   "execution_count": 29,
   "metadata": {
    "collapsed": false
   },
   "outputs": [
    {
     "name": "stdout",
     "output_type": "stream",
     "text": [
      "Using matplotlib backend: MacOSX\n"
     ]
    }
   ],
   "source": [
    "%matplotlib"
   ]
  },
  {
   "cell_type": "code",
   "execution_count": 30,
   "metadata": {
    "collapsed": true
   },
   "outputs": [],
   "source": [
    "tk_labels = [d.strftime('%b-%d') for d in df_return.index.to_pydatetime()]"
   ]
  },
  {
   "cell_type": "code",
   "execution_count": 31,
   "metadata": {
    "collapsed": false
   },
   "outputs": [],
   "source": [
    "ax_AAPL = df_return.plot(y='AAPL', kind='bar', color='silver')\n",
    "tk_locs = ax_AAPL.xaxis.get_ticklocs()\n",
    "ticks = ax_AAPL.set_xticks(tk_locs[::10])\n",
    "labels = ax_AAPL.set_xticklabels(tk_labels[::10], rotation=30)\n",
    "title = ax_AAPL.set_title('Apple Inc. Year 2016 Daily Returns', \n",
    "                          fontsize=14, fontweight='bold', color='navy')"
   ]
  },
  {
   "cell_type": "code",
   "execution_count": 32,
   "metadata": {
    "collapsed": false
   },
   "outputs": [],
   "source": [
    "ax_AMZN = df_return.plot(y='AMZN', kind='bar', color='orange')\n",
    "ticks = ax_AMZN.set_xticks(tk_locs[::10])\n",
    "labels = ax_AMZN.set_xticklabels(tk_labels[::10], rotation=30)\n",
    "title = ax_AMZN.set_title('Amazon.com, Inc. Year 2016 Daily Returns', \n",
    "                          fontsize=14, fontweight='bold', color='navy')"
   ]
  },
  {
   "cell_type": "code",
   "execution_count": 33,
   "metadata": {
    "collapsed": false
   },
   "outputs": [],
   "source": [
    "ax_IAU = df_return.plot(y='IAU', kind='bar', color='gold')\n",
    "ticks = ax_IAU.set_xticks(tk_locs[::10])\n",
    "labels = ax_IAU.set_xticklabels(tk_labels[::10], rotation=30)\n",
    "title = ax_IAU.set_title('iShares Gold Trust Year 2016 Daily Returns', \n",
    "                         fontsize=14, fontweight='bold', color='navy')"
   ]
  },
  {
   "cell_type": "code",
   "execution_count": 34,
   "metadata": {
    "collapsed": true
   },
   "outputs": [],
   "source": [
    "ax_IYZ = df_return.plot(y='IYZ', kind='bar', color='steelblue')\n",
    "ticks = ax_IYZ.set_xticks(tk_locs[::10])\n",
    "labels = ax_IYZ.set_xticklabels(tk_labels[::10], rotation=30)\n",
    "title = ax_IYZ.set_title('iShares US Telecom Year 2016 Daily Returns', \n",
    "                         fontsize=14, fontweight='bold', color='navy')"
   ]
  },
  {
   "cell_type": "code",
   "execution_count": 35,
   "metadata": {
    "collapsed": true
   },
   "outputs": [],
   "source": [
    "ax_TAO = df_return.plot(y='TAO', kind='bar', color='olivedrab')\n",
    "ticks = ax_TAO.set_xticks(tk_locs[::10])\n",
    "labels = ax_TAO.set_xticklabels(tk_labels[::10], rotation=30)\n",
    "title = ax_TAO.set_title('Guggenheim China Real Estate Year 2016 Daily Returns', \n",
    "                         fontsize=14, fontweight='bold', color='navy')"
   ]
  },
  {
   "cell_type": "code",
   "execution_count": 36,
   "metadata": {
    "collapsed": false
   },
   "outputs": [],
   "source": [
    "ax_SPY = df_return.plot(y='^SPY', kind='bar', color='lightcoral')\n",
    "ticks = ax_SPY.set_xticks(tk_locs[::10])\n",
    "labels = ax_SPY.set_xticklabels(tk_labels[::10], rotation=30)\n",
    "title = ax_SPY.set_title('SPDR S&P 500 ETF Trust Year 2016 Daily Returns', \n",
    "                         fontsize=14, fontweight='bold', color='navy')"
   ]
  },
  {
   "cell_type": "markdown",
   "metadata": {},
   "source": [
    "*2c: Calculate summary statistics*"
   ]
  },
  {
   "cell_type": "code",
   "execution_count": 37,
   "metadata": {
    "collapsed": false
   },
   "outputs": [],
   "source": [
    "df_stats = df_return.describe().reindex(['min','max','std','mean'])"
   ]
  },
  {
   "cell_type": "code",
   "execution_count": 39,
   "metadata": {
    "collapsed": false
   },
   "outputs": [],
   "source": [
    "df_stats.ix['var'] = df_stats.ix['std']*df_stats.ix['std']"
   ]
  },
  {
   "cell_type": "code",
   "execution_count": 41,
   "metadata": {
    "collapsed": false
   },
   "outputs": [
    {
     "data": {
      "text/html": [
       "<div>\n",
       "<table border=\"1\" class=\"dataframe\">\n",
       "  <thead>\n",
       "    <tr style=\"text-align: right;\">\n",
       "      <th></th>\n",
       "      <th>AAPL</th>\n",
       "      <th>AMZN</th>\n",
       "      <th>IAU</th>\n",
       "      <th>IYZ</th>\n",
       "      <th>TAO</th>\n",
       "      <th>^SPY</th>\n",
       "    </tr>\n",
       "  </thead>\n",
       "  <tbody>\n",
       "    <tr>\n",
       "      <th>min</th>\n",
       "      <td>-0.065707</td>\n",
       "      <td>-0.076100</td>\n",
       "      <td>-0.033175</td>\n",
       "      <td>-0.035168</td>\n",
       "      <td>-0.040000</td>\n",
       "      <td>-0.036431</td>\n",
       "    </tr>\n",
       "    <tr>\n",
       "      <th>max</th>\n",
       "      <td>0.064963</td>\n",
       "      <td>0.095664</td>\n",
       "      <td>0.049505</td>\n",
       "      <td>0.045045</td>\n",
       "      <td>0.031710</td>\n",
       "      <td>0.024619</td>\n",
       "    </tr>\n",
       "    <tr>\n",
       "      <th>std</th>\n",
       "      <td>0.014751</td>\n",
       "      <td>0.018383</td>\n",
       "      <td>0.010291</td>\n",
       "      <td>0.012158</td>\n",
       "      <td>0.012140</td>\n",
       "      <td>0.008262</td>\n",
       "    </tr>\n",
       "    <tr>\n",
       "      <th>mean</th>\n",
       "      <td>0.000486</td>\n",
       "      <td>0.000818</td>\n",
       "      <td>0.000313</td>\n",
       "      <td>0.000886</td>\n",
       "      <td>0.000108</td>\n",
       "      <td>0.000457</td>\n",
       "    </tr>\n",
       "    <tr>\n",
       "      <th>var</th>\n",
       "      <td>0.000218</td>\n",
       "      <td>0.000338</td>\n",
       "      <td>0.000106</td>\n",
       "      <td>0.000148</td>\n",
       "      <td>0.000147</td>\n",
       "      <td>0.000068</td>\n",
       "    </tr>\n",
       "  </tbody>\n",
       "</table>\n",
       "</div>"
      ],
      "text/plain": [
       "          AAPL      AMZN       IAU       IYZ       TAO      ^SPY\n",
       "min  -0.065707 -0.076100 -0.033175 -0.035168 -0.040000 -0.036431\n",
       "max   0.064963  0.095664  0.049505  0.045045  0.031710  0.024619\n",
       "std   0.014751  0.018383  0.010291  0.012158  0.012140  0.008262\n",
       "mean  0.000486  0.000818  0.000313  0.000886  0.000108  0.000457\n",
       "var   0.000218  0.000338  0.000106  0.000148  0.000147  0.000068"
      ]
     },
     "execution_count": 41,
     "metadata": {},
     "output_type": "execute_result"
    }
   ],
   "source": [
    "df_stats"
   ]
  },
  {
   "cell_type": "markdown",
   "metadata": {},
   "source": [
    "#### Step 3: Regression Analysis"
   ]
  },
  {
   "cell_type": "markdown",
   "metadata": {
    "collapsed": true
   },
   "source": [
    "*3a: Perform linear regression on each of the five assets against S&P 500*"
   ]
  },
  {
   "cell_type": "code",
   "execution_count": 42,
   "metadata": {
    "collapsed": true
   },
   "outputs": [],
   "source": [
    "from sklearn import linear_model\n",
    "from sklearn.metrics import mean_squared_error"
   ]
  },
  {
   "cell_type": "code",
   "execution_count": 43,
   "metadata": {
    "collapsed": true
   },
   "outputs": [],
   "source": [
    "ap = df_return['AAPL'][1:].values.reshape(-1,1)\n",
    "amz = df_return['AMZN'][1:].values.reshape(-1,1)\n",
    "gd = df_return['IAU'][1:].values.reshape(-1,1)\n",
    "com = df_return['IYZ'][1:].values.reshape(-1,1)\n",
    "tao = df_return['TAO'][1:].values.reshape(-1,1)\n",
    "sp = df_return['^SPY'][1:].values.reshape(-1,1)"
   ]
  },
  {
   "cell_type": "code",
   "execution_count": 44,
   "metadata": {
    "collapsed": false
   },
   "outputs": [],
   "source": [
    "reg_ap = linear_model.LinearRegression()\n",
    "reg_amz = linear_model.LinearRegression()\n",
    "reg_gd = linear_model.LinearRegression()\n",
    "reg_com = linear_model.LinearRegression()\n",
    "reg_tao = linear_model.LinearRegression()"
   ]
  },
  {
   "cell_type": "code",
   "execution_count": 45,
   "metadata": {
    "collapsed": false
   },
   "outputs": [
    {
     "data": {
      "text/plain": [
       "LinearRegression(copy_X=True, fit_intercept=True, n_jobs=1, normalize=False)"
      ]
     },
     "execution_count": 45,
     "metadata": {},
     "output_type": "execute_result"
    }
   ],
   "source": [
    "reg_ap.fit(ap, sp)\n",
    "reg_amz.fit(amz, sp)\n",
    "reg_gd.fit(gd, sp)\n",
    "reg_com.fit(com, sp)\n",
    "reg_tao.fit(tao, sp)"
   ]
  },
  {
   "cell_type": "markdown",
   "metadata": {},
   "source": [
    "*3b: For each regression, plot the samples and the linear model*"
   ]
  },
  {
   "cell_type": "code",
   "execution_count": 47,
   "metadata": {
    "collapsed": false
   },
   "outputs": [
    {
     "data": {
      "text/plain": [
       "<matplotlib.text.Text at 0x130fc8f98>"
      ]
     },
     "execution_count": 47,
     "metadata": {},
     "output_type": "execute_result"
    }
   ],
   "source": [
    "fig_ap = plt.figure()\n",
    "ax_ap = fig_ap.add_subplot(1,1,1)\n",
    "plt.scatter(ap, sp, color='darkgrey')\n",
    "plt.plot(ap, reg_ap.predict(ap),color='darkcyan',linewidth=2)\n",
    "\n",
    "ax_ap.set_title('Regression Analysis on Daily Returns', fontsize=14, fontweight='bold')\n",
    "ax_ap.set_xlabel('Apple Inc.')\n",
    "ax_ap.set_ylabel('SPDR S&P 500')"
   ]
  },
  {
   "cell_type": "code",
   "execution_count": 48,
   "metadata": {
    "collapsed": false
   },
   "outputs": [
    {
     "data": {
      "text/plain": [
       "<matplotlib.text.Text at 0x1310e26d8>"
      ]
     },
     "execution_count": 48,
     "metadata": {},
     "output_type": "execute_result"
    }
   ],
   "source": [
    "fig_amz = plt.figure()\n",
    "ax_amz = fig_amz.add_subplot(1,1,1)\n",
    "plt.scatter(amz, sp, color='darkgrey')\n",
    "plt.plot(amz, reg_amz.predict(amz),color='darkcyan',linewidth=2)\n",
    "\n",
    "ax_amz.set_title('Regression Analysis on Daily Returns', fontsize=14, fontweight='bold')\n",
    "ax_amz.set_xlabel('Amazon.com, Inc.')\n",
    "ax_amz.set_ylabel('SPDR S&P 500')"
   ]
  },
  {
   "cell_type": "code",
   "execution_count": 49,
   "metadata": {
    "collapsed": false
   },
   "outputs": [
    {
     "data": {
      "text/plain": [
       "<matplotlib.text.Text at 0x1311d5f60>"
      ]
     },
     "execution_count": 49,
     "metadata": {},
     "output_type": "execute_result"
    }
   ],
   "source": [
    "fig_gd = plt.figure()\n",
    "ax_gd = fig_gd.add_subplot(1,1,1)\n",
    "plt.scatter(gd, sp, color='darkgrey')\n",
    "plt.plot(gd, reg_gd.predict(gd),color='darkcyan',linewidth=2)\n",
    "\n",
    "ax_gd.set_title('Regression Analysis on Daily Returns', fontsize=14, fontweight='bold')\n",
    "ax_gd.set_xlabel('iShares Gold Trust')\n",
    "ax_gd.set_ylabel('SPDR S&P 500')"
   ]
  },
  {
   "cell_type": "code",
   "execution_count": 50,
   "metadata": {
    "collapsed": false
   },
   "outputs": [
    {
     "data": {
      "text/plain": [
       "<matplotlib.text.Text at 0x1312e5a20>"
      ]
     },
     "execution_count": 50,
     "metadata": {},
     "output_type": "execute_result"
    }
   ],
   "source": [
    "fig_com = plt.figure()\n",
    "ax_com = fig_com.add_subplot(1,1,1)\n",
    "plt.scatter(com, sp, color='darkgrey')\n",
    "plt.plot(com, reg_com.predict(com),color='darkcyan',linewidth=2)\n",
    "\n",
    "ax_com.set_title('Regression Analysis on Daily Returns', fontsize=14, fontweight='bold')\n",
    "ax_com.set_xlabel('iShares US Telecommunications')\n",
    "ax_com.set_ylabel('SPDR S&P 500')"
   ]
  },
  {
   "cell_type": "code",
   "execution_count": 51,
   "metadata": {
    "collapsed": false
   },
   "outputs": [
    {
     "data": {
      "text/plain": [
       "<matplotlib.text.Text at 0x1313d50f0>"
      ]
     },
     "execution_count": 51,
     "metadata": {},
     "output_type": "execute_result"
    }
   ],
   "source": [
    "fig_tao = plt.figure()\n",
    "ax_tao = fig_tao.add_subplot(1,1,1)\n",
    "plt.scatter(tao, sp, color='darkgrey')\n",
    "plt.plot(tao, reg_tao.predict(tao),color='darkcyan',linewidth=2)\n",
    "\n",
    "ax_tao.set_title('Regression Analysis on Daily Returns', fontsize=14, fontweight='bold')\n",
    "ax_tao.set_xlabel('Guggenheim China Real Estate ETF')\n",
    "ax_tao.set_ylabel('SPDR S&P 500')"
   ]
  },
  {
   "cell_type": "markdown",
   "metadata": {},
   "source": [
    "*3c: Calculate and display the intercept, coefficient, R^2, and Mean Squared Error.*"
   ]
  },
  {
   "cell_type": "code",
   "execution_count": 73,
   "metadata": {
    "collapsed": true
   },
   "outputs": [],
   "source": [
    "reg_results = pd.DataFrame(index = ['R-squared', 'Intercept', 'Coefficient', 'MSE'])"
   ]
  },
  {
   "cell_type": "code",
   "execution_count": 74,
   "metadata": {
    "collapsed": false
   },
   "outputs": [],
   "source": [
    "reg_results['AAPL'] = reg_ap.score(ap, sp), reg_ap.intercept_, reg_ap.coef_, mean_squared_error(ap, sp)"
   ]
  },
  {
   "cell_type": "code",
   "execution_count": 75,
   "metadata": {
    "collapsed": true
   },
   "outputs": [],
   "source": [
    "reg_results['AMZN'] = reg_amz.score(amz, sp), reg_amz.intercept_, reg_amz.coef_, mean_squared_error(amz, sp)"
   ]
  },
  {
   "cell_type": "code",
   "execution_count": 76,
   "metadata": {
    "collapsed": true
   },
   "outputs": [],
   "source": [
    "reg_results['IAU'] = reg_gd.score(gd, sp), reg_gd.intercept_, reg_gd.coef_, mean_squared_error(gd, sp)"
   ]
  },
  {
   "cell_type": "code",
   "execution_count": 77,
   "metadata": {
    "collapsed": true
   },
   "outputs": [],
   "source": [
    "reg_results['IYZ'] = reg_com.score(com, sp), reg_com.intercept_, reg_com.coef_, mean_squared_error(com, sp)"
   ]
  },
  {
   "cell_type": "code",
   "execution_count": 78,
   "metadata": {
    "collapsed": true
   },
   "outputs": [],
   "source": [
    "reg_results['TAO'] = reg_tao.score(tao, sp), reg_tao.intercept_, reg_tao.coef_, mean_squared_error(tao, sp)"
   ]
  },
  {
   "cell_type": "code",
   "execution_count": 79,
   "metadata": {
    "collapsed": false
   },
   "outputs": [
    {
     "data": {
      "text/html": [
       "<div>\n",
       "<table border=\"1\" class=\"dataframe\">\n",
       "  <thead>\n",
       "    <tr style=\"text-align: right;\">\n",
       "      <th></th>\n",
       "      <th>AAPL</th>\n",
       "      <th>AMZN</th>\n",
       "      <th>IAU</th>\n",
       "      <th>IYZ</th>\n",
       "      <th>TAO</th>\n",
       "    </tr>\n",
       "  </thead>\n",
       "  <tbody>\n",
       "    <tr>\n",
       "      <th>R-squared</th>\n",
       "      <td>0.325956</td>\n",
       "      <td>0.228660</td>\n",
       "      <td>0.125816</td>\n",
       "      <td>0.520806</td>\n",
       "      <td>0.384467</td>\n",
       "    </tr>\n",
       "    <tr>\n",
       "      <th>Intercept</th>\n",
       "      <td>0.000302</td>\n",
       "      <td>0.000281</td>\n",
       "      <td>0.000546</td>\n",
       "      <td>0.000023</td>\n",
       "      <td>0.000411</td>\n",
       "    </tr>\n",
       "    <tr>\n",
       "      <th>Coefficient</th>\n",
       "      <td>0.319776</td>\n",
       "      <td>0.214920</td>\n",
       "      <td>-0.284773</td>\n",
       "      <td>0.490412</td>\n",
       "      <td>0.421980</td>\n",
       "    </tr>\n",
       "    <tr>\n",
       "      <th>MSE</th>\n",
       "      <td>0.000146</td>\n",
       "      <td>0.000260</td>\n",
       "      <td>0.000234</td>\n",
       "      <td>0.000071</td>\n",
       "      <td>0.000091</td>\n",
       "    </tr>\n",
       "  </tbody>\n",
       "</table>\n",
       "</div>"
      ],
      "text/plain": [
       "                 AAPL      AMZN       IAU       IYZ       TAO\n",
       "R-squared    0.325956  0.228660  0.125816  0.520806  0.384467\n",
       "Intercept    0.000302  0.000281  0.000546  0.000023  0.000411\n",
       "Coefficient  0.319776  0.214920 -0.284773  0.490412  0.421980\n",
       "MSE          0.000146  0.000260  0.000234  0.000071  0.000091"
      ]
     },
     "execution_count": 79,
     "metadata": {},
     "output_type": "execute_result"
    }
   ],
   "source": [
    "reg_results"
   ]
  },
  {
   "cell_type": "markdown",
   "metadata": {},
   "source": [
    "*3d: Which asset is highly correlated with the S&P 500 and which asset is the least correlated?*"
   ]
  },
  {
   "cell_type": "code",
   "execution_count": 80,
   "metadata": {
    "collapsed": false
   },
   "outputs": [
    {
     "data": {
      "text/html": [
       "<div>\n",
       "<table border=\"1\" class=\"dataframe\">\n",
       "  <thead>\n",
       "    <tr style=\"text-align: right;\">\n",
       "      <th></th>\n",
       "      <th>IYZ</th>\n",
       "      <th>TAO</th>\n",
       "      <th>AAPL</th>\n",
       "      <th>AMZN</th>\n",
       "      <th>IAU</th>\n",
       "    </tr>\n",
       "  </thead>\n",
       "  <tbody>\n",
       "    <tr>\n",
       "      <th>R-squared</th>\n",
       "      <td>0.520806</td>\n",
       "      <td>0.384467</td>\n",
       "      <td>0.325956</td>\n",
       "      <td>0.228660</td>\n",
       "      <td>0.125816</td>\n",
       "    </tr>\n",
       "    <tr>\n",
       "      <th>Intercept</th>\n",
       "      <td>0.000023</td>\n",
       "      <td>0.000411</td>\n",
       "      <td>0.000302</td>\n",
       "      <td>0.000281</td>\n",
       "      <td>0.000546</td>\n",
       "    </tr>\n",
       "    <tr>\n",
       "      <th>Coefficient</th>\n",
       "      <td>0.490412</td>\n",
       "      <td>0.421980</td>\n",
       "      <td>0.319776</td>\n",
       "      <td>0.214920</td>\n",
       "      <td>-0.284773</td>\n",
       "    </tr>\n",
       "    <tr>\n",
       "      <th>MSE</th>\n",
       "      <td>0.000071</td>\n",
       "      <td>0.000091</td>\n",
       "      <td>0.000146</td>\n",
       "      <td>0.000260</td>\n",
       "      <td>0.000234</td>\n",
       "    </tr>\n",
       "  </tbody>\n",
       "</table>\n",
       "</div>"
      ],
      "text/plain": [
       "                  IYZ       TAO      AAPL      AMZN       IAU\n",
       "R-squared    0.520806  0.384467  0.325956  0.228660  0.125816\n",
       "Intercept    0.000023  0.000411  0.000302  0.000281  0.000546\n",
       "Coefficient  0.490412  0.421980  0.319776  0.214920 -0.284773\n",
       "MSE          0.000071  0.000091  0.000146  0.000260  0.000234"
      ]
     },
     "execution_count": 80,
     "metadata": {},
     "output_type": "execute_result"
    }
   ],
   "source": [
    "reg_results = reg_results.sort_values('R-squared', axis = 1, ascending = False)\n",
    "reg_results\n",
    "#rank according to R-squared descendingly."
   ]
  },
  {
   "cell_type": "markdown",
   "metadata": {},
   "source": [
    "Based on the value of R-squared, among the five assets, IYZ is the most correlated with S&P 500 and IAU is the least correlated."
   ]
  }
 ],
 "metadata": {
  "kernelspec": {
   "display_name": "Python 3",
   "language": "python",
   "name": "python3"
  },
  "language_info": {
   "codemirror_mode": {
    "name": "ipython",
    "version": 3
   },
   "file_extension": ".py",
   "mimetype": "text/x-python",
   "name": "python",
   "nbconvert_exporter": "python",
   "pygments_lexer": "ipython3",
   "version": "3.6.0"
  }
 },
 "nbformat": 4,
 "nbformat_minor": 0
}
